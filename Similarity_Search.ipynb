{
 "cells": [
  {
   "cell_type": "code",
   "execution_count": 2,
   "metadata": {},
   "outputs": [
    {
     "name": "stdout",
     "output_type": "stream",
     "text": [
      "Logged in. Welcome krzwozn. To view list of available collections, call list_collections() method.\n"
     ]
    }
   ],
   "source": [
    "from vectorai import ViClient\n",
    "from vectorai.models.deployed import ViImage2Vec\n",
    "import similarity_search\n",
    "#username = '<username>'\n",
    "#api_key = '<api_key>'\n",
    "\n",
    "vi_client = ViClient(username, api_key, url)\n",
    "image_encoder = ViImage2Vec(username, api_key, url)"
   ]
  },
  {
   "cell_type": "markdown",
   "metadata": {},
   "source": [
    "# Boots set\n"
   ]
  },
  {
   "cell_type": "code",
   "execution_count": 3,
   "metadata": {},
   "outputs": [
    {
     "data": {
      "text/html": [
       "<div>         <img style='width:170px; float: left; border: 1px solid black;' src='https://i.ibb.co/5sxYyZg/middle-img-18104.png'>         <h3 style='width:0px; position: relative; top:-25px; right:165px; float: left;'> 0 </h3>     </div><div>         <img style='width:170px; float: left; border: 1px solid black;' src='https://i.ibb.co/qkV2Gkk/middle-img-21519.png'>         <h3 style='width:0px; position: relative; top:-25px; right:165px; float: left;'> 1 </h3>     </div><div>         <img style='width:170px; float: left; border: 1px solid black;' src='https://i.ibb.co/dcQCGNV/middle-img-25005.png'>         <h3 style='width:0px; position: relative; top:-25px; right:165px; float: left;'> 2 </h3>     </div><div>         <img style='width:170px; float: left; border: 1px solid black;' src='https://i.ibb.co/W2SqtDD/middle-img-28263.png'>         <h3 style='width:0px; position: relative; top:-25px; right:165px; float: left;'> 3 </h3>     </div><div>         <img style='width:170px; float: left; border: 1px solid black;' src='https://i.ibb.co/BBgWs6z/middle-img-28674.png'>         <h3 style='width:0px; position: relative; top:-25px; right:165px; float: left;'> 4 </h3>     </div><div>         <img style='width:170px; float: left; border: 1px solid black;' src='https://i.ibb.co/y0V6FnZ/middle-img-31265.png'>         <h3 style='width:0px; position: relative; top:-25px; right:165px; float: left;'> 5 </h3>     </div><div>         <img style='width:170px; float: left; border: 1px solid black;' src='https://i.ibb.co/JnQL1hs/middle-img-31308.png'>         <h3 style='width:0px; position: relative; top:-25px; right:165px; float: left;'> 6 </h3>     </div><div>         <img style='width:170px; float: left; border: 1px solid black;' src='https://i.ibb.co/mX9QZJc/middle-img-31544.png'>         <h3 style='width:0px; position: relative; top:-25px; right:165px; float: left;'> 7 </h3>     </div><div>         <img style='width:170px; float: left; border: 1px solid black;' src='https://i.ibb.co/MNCfw0H/middle-img-31640.png'>         <h3 style='width:0px; position: relative; top:-25px; right:165px; float: left;'> 8 </h3>     </div><div>         <img style='width:170px; float: left; border: 1px solid black;' src='https://i.ibb.co/wwvwWbn/middle-img-31694.png'>         <h3 style='width:0px; position: relative; top:-25px; right:165px; float: left;'> 9 </h3>     </div><div>         <img style='width:170px; float: left; border: 1px solid black;' src='https://i.ibb.co/yFtNrNS/middle-img-31712.png'>         <h3 style='width:0px; position: relative; top:-25px; right:165px; float: left;'> 10 </h3>     </div><div>         <img style='width:170px; float: left; border: 1px solid black;' src='https://i.ibb.co/sHPSjjz/middle-img-32071.png'>         <h3 style='width:0px; position: relative; top:-25px; right:165px; float: left;'> 11 </h3>     </div><div>         <img style='width:170px; float: left; border: 1px solid black;' src='https://i.ibb.co/ySKJ21j/middle-img-32083.png'>         <h3 style='width:0px; position: relative; top:-25px; right:165px; float: left;'> 12 </h3>     </div><div>         <img style='width:170px; float: left; border: 1px solid black;' src='https://i.ibb.co/vkDWfKF/middle-img-32253.png'>         <h3 style='width:0px; position: relative; top:-25px; right:165px; float: left;'> 13 </h3>     </div><div>         <img style='width:170px; float: left; border: 1px solid black;' src='https://i.ibb.co/sq2tfdc/middle-img-32400.png'>         <h3 style='width:0px; position: relative; top:-25px; right:165px; float: left;'> 14 </h3>     </div><div>         <img style='width:170px; float: left; border: 1px solid black;' src='https://i.ibb.co/N9hykz5/middle-img-32406.png'>         <h3 style='width:0px; position: relative; top:-25px; right:165px; float: left;'> 15 </h3>     </div><div>         <img style='width:170px; float: left; border: 1px solid black;' src='https://i.ibb.co/99SzFPf/middle-img-32544.png'>         <h3 style='width:0px; position: relative; top:-25px; right:165px; float: left;'> 16 </h3>     </div><div>         <img style='width:170px; float: left; border: 1px solid black;' src='https://i.ibb.co/c2xDMyn/middle-img-32589.png'>         <h3 style='width:0px; position: relative; top:-25px; right:165px; float: left;'> 17 </h3>     </div><div>         <img style='width:170px; float: left; border: 1px solid black;' src='https://i.ibb.co/vjChMVv/middle-img-33196.png'>         <h3 style='width:0px; position: relative; top:-25px; right:165px; float: left;'> 18 </h3>     </div><div>         <img style='width:170px; float: left; border: 1px solid black;' src='https://i.ibb.co/nbNb7fx/middle-img-33201.png'>         <h3 style='width:0px; position: relative; top:-25px; right:165px; float: left;'> 19 </h3>     </div><div>         <img style='width:170px; float: left; border: 1px solid black;' src='https://i.ibb.co/9vgdDcL/middle-img-34157.png'>         <h3 style='width:0px; position: relative; top:-25px; right:165px; float: left;'> 20 </h3>     </div><div>         <img style='width:170px; float: left; border: 1px solid black;' src='https://i.ibb.co/5rxDX6d/middle-img-34388.png'>         <h3 style='width:0px; position: relative; top:-25px; right:165px; float: left;'> 21 </h3>     </div><div>         <img style='width:170px; float: left; border: 1px solid black;' src='https://i.ibb.co/vHn0Stb/middle-img-34473.png'>         <h3 style='width:0px; position: relative; top:-25px; right:165px; float: left;'> 22 </h3>     </div><div>         <img style='width:170px; float: left; border: 1px solid black;' src='https://i.ibb.co/Vg7c2bf/middle-img-34518.png'>         <h3 style='width:0px; position: relative; top:-25px; right:165px; float: left;'> 23 </h3>     </div><div>         <img style='width:170px; float: left; border: 1px solid black;' src='https://i.ibb.co/gMRWdK5/middle-img-34601.png'>         <h3 style='width:0px; position: relative; top:-25px; right:165px; float: left;'> 24 </h3>     </div><div>         <img style='width:170px; float: left; border: 1px solid black;' src='https://i.ibb.co/D8vHShy/middle-img-40110.png'>         <h3 style='width:0px; position: relative; top:-25px; right:165px; float: left;'> 25 </h3>     </div><div>         <img style='width:170px; float: left; border: 1px solid black;' src='https://i.ibb.co/dLxz5Pr/middle-img-40284.png'>         <h3 style='width:0px; position: relative; top:-25px; right:165px; float: left;'> 26 </h3>     </div><div>         <img style='width:170px; float: left; border: 1px solid black;' src='https://i.ibb.co/dLqc7Zh/middle-img-40512.png'>         <h3 style='width:0px; position: relative; top:-25px; right:165px; float: left;'> 27 </h3>     </div><div>         <img style='width:170px; float: left; border: 1px solid black;' src='https://i.ibb.co/PYMg5Dp/middle-img-40848.png'>         <h3 style='width:0px; position: relative; top:-25px; right:165px; float: left;'> 28 </h3>     </div><div>         <img style='width:170px; float: left; border: 1px solid black;' src='https://i.ibb.co/Fqbk0wf/middle-img-41088.png'>         <h3 style='width:0px; position: relative; top:-25px; right:165px; float: left;'> 29 </h3>     </div><div>         <img style='width:170px; float: left; border: 1px solid black;' src='https://i.ibb.co/6ydBsxV/middle-img-41094.png'>         <h3 style='width:0px; position: relative; top:-25px; right:165px; float: left;'> 30 </h3>     </div><div>         <img style='width:170px; float: left; border: 1px solid black;' src='https://i.ibb.co/1Z26GFp/middle-img-41640.png'>         <h3 style='width:0px; position: relative; top:-25px; right:165px; float: left;'> 31 </h3>     </div><div>         <img style='width:170px; float: left; border: 1px solid black;' src='https://i.ibb.co/SRn2Hw0/middle-img-41658.png'>         <h3 style='width:0px; position: relative; top:-25px; right:165px; float: left;'> 32 </h3>     </div><div>         <img style='width:170px; float: left; border: 1px solid black;' src='https://i.ibb.co/m53LncL/middle-img-41712.png'>         <h3 style='width:0px; position: relative; top:-25px; right:165px; float: left;'> 33 </h3>     </div><div>         <img style='width:170px; float: left; border: 1px solid black;' src='https://i.ibb.co/ZJ7k4bn/middle-img-41836.png'>         <h3 style='width:0px; position: relative; top:-25px; right:165px; float: left;'> 34 </h3>     </div><div>         <img style='width:170px; float: left; border: 1px solid black;' src='https://i.ibb.co/TrYcvtk/middle-img-41920.png'>         <h3 style='width:0px; position: relative; top:-25px; right:165px; float: left;'> 35 </h3>     </div><div>         <img style='width:170px; float: left; border: 1px solid black;' src='https://i.ibb.co/nRfy8MW/middle-img-41967.png'>         <h3 style='width:0px; position: relative; top:-25px; right:165px; float: left;'> 36 </h3>     </div><div>         <img style='width:170px; float: left; border: 1px solid black;' src='https://i.ibb.co/wK8Fh5C/middle-img-42100.png'>         <h3 style='width:0px; position: relative; top:-25px; right:165px; float: left;'> 37 </h3>     </div><div>         <img style='width:170px; float: left; border: 1px solid black;' src='https://i.ibb.co/THQsQdS/middle-img-42112.png'>         <h3 style='width:0px; position: relative; top:-25px; right:165px; float: left;'> 38 </h3>     </div><div>         <img style='width:170px; float: left; border: 1px solid black;' src='https://i.ibb.co/wQsn3dq/middle-img-42262.png'>         <h3 style='width:0px; position: relative; top:-25px; right:165px; float: left;'> 39 </h3>     </div><div>         <img style='width:170px; float: left; border: 1px solid black;' src='https://i.ibb.co/6yjSMb0/middle-img-42330.png'>         <h3 style='width:0px; position: relative; top:-25px; right:165px; float: left;'> 40 </h3>     </div><div>         <img style='width:170px; float: left; border: 1px solid black;' src='https://i.ibb.co/bPR0381/middle-img-42453.png'>         <h3 style='width:0px; position: relative; top:-25px; right:165px; float: left;'> 41 </h3>     </div><div>         <img style='width:170px; float: left; border: 1px solid black;' src='https://i.ibb.co/5K3JLdV/middle-img-46146.png'>         <h3 style='width:0px; position: relative; top:-25px; right:165px; float: left;'> 42 </h3>     </div><div>         <img style='width:170px; float: left; border: 1px solid black;' src='https://i.ibb.co/6bfyGfC/middle-img-48799.png'>         <h3 style='width:0px; position: relative; top:-25px; right:165px; float: left;'> 43 </h3>     </div><div>         <img style='width:170px; float: left; border: 1px solid black;' src='https://i.ibb.co/NKk2L8j/middle-img-49524.png'>         <h3 style='width:0px; position: relative; top:-25px; right:165px; float: left;'> 44 </h3>     </div><div>         <img style='width:170px; float: left; border: 1px solid black;' src='https://i.ibb.co/0Bcst4W/middle-img-49554.png'>         <h3 style='width:0px; position: relative; top:-25px; right:165px; float: left;'> 45 </h3>     </div><div>         <img style='width:170px; float: left; border: 1px solid black;' src='https://i.ibb.co/mzSwmT7/middle-img-58456.png'>         <h3 style='width:0px; position: relative; top:-25px; right:165px; float: left;'> 46 </h3>     </div><div>         <img style='width:170px; float: left; border: 1px solid black;' src='https://i.ibb.co/bNLpjn0/middle-img-58709.png'>         <h3 style='width:0px; position: relative; top:-25px; right:165px; float: left;'> 47 </h3>     </div><div>         <img style='width:170px; float: left; border: 1px solid black;' src='https://i.ibb.co/x3K2JnK/middle-img-64262.png'>         <h3 style='width:0px; position: relative; top:-25px; right:165px; float: left;'> 48 </h3>     </div><div>         <img style='width:170px; float: left; border: 1px solid black;' src='https://i.ibb.co/YTZXZDc/middle-img-65790.png'>         <h3 style='width:0px; position: relative; top:-25px; right:165px; float: left;'> 49 </h3>     </div>"
      ],
      "text/plain": [
       "<IPython.core.display.HTML object>"
      ]
     },
     "metadata": {},
     "output_type": "display_data"
    }
   ],
   "source": [
    "boots = [\n",
    "\"https://i.ibb.co/5sxYyZg/middle-img-18104.png\",\n",
    "\"https://i.ibb.co/qkV2Gkk/middle-img-21519.png\",\n",
    "\"https://i.ibb.co/dcQCGNV/middle-img-25005.png\",\n",
    "\"https://i.ibb.co/W2SqtDD/middle-img-28263.png\",\n",
    "\"https://i.ibb.co/BBgWs6z/middle-img-28674.png\",\n",
    "\"https://i.ibb.co/y0V6FnZ/middle-img-31265.png\",\n",
    "\"https://i.ibb.co/JnQL1hs/middle-img-31308.png\",\n",
    "\"https://i.ibb.co/mX9QZJc/middle-img-31544.png\",\n",
    "\"https://i.ibb.co/MNCfw0H/middle-img-31640.png\",\n",
    "\"https://i.ibb.co/wwvwWbn/middle-img-31694.png\",\n",
    "\"https://i.ibb.co/yFtNrNS/middle-img-31712.png\",\n",
    "\"https://i.ibb.co/sHPSjjz/middle-img-32071.png\",\n",
    "\"https://i.ibb.co/ySKJ21j/middle-img-32083.png\",\n",
    "\"https://i.ibb.co/vkDWfKF/middle-img-32253.png\",\n",
    "\"https://i.ibb.co/sq2tfdc/middle-img-32400.png\",\n",
    "\"https://i.ibb.co/N9hykz5/middle-img-32406.png\",\n",
    "\"https://i.ibb.co/99SzFPf/middle-img-32544.png\",\n",
    "\"https://i.ibb.co/c2xDMyn/middle-img-32589.png\",\n",
    "\"https://i.ibb.co/vjChMVv/middle-img-33196.png\",\n",
    "\"https://i.ibb.co/nbNb7fx/middle-img-33201.png\",\n",
    "\"https://i.ibb.co/9vgdDcL/middle-img-34157.png\",\n",
    "\"https://i.ibb.co/5rxDX6d/middle-img-34388.png\",\n",
    "\"https://i.ibb.co/vHn0Stb/middle-img-34473.png\",\n",
    "\"https://i.ibb.co/Vg7c2bf/middle-img-34518.png\",\n",
    "\"https://i.ibb.co/gMRWdK5/middle-img-34601.png\",\n",
    "\"https://i.ibb.co/D8vHShy/middle-img-40110.png\",\n",
    "\"https://i.ibb.co/dLxz5Pr/middle-img-40284.png\",\n",
    "\"https://i.ibb.co/dLqc7Zh/middle-img-40512.png\",\n",
    "\"https://i.ibb.co/PYMg5Dp/middle-img-40848.png\",\n",
    "\"https://i.ibb.co/Fqbk0wf/middle-img-41088.png\",\n",
    "\"https://i.ibb.co/6ydBsxV/middle-img-41094.png\",\n",
    "\"https://i.ibb.co/1Z26GFp/middle-img-41640.png\",\n",
    "\"https://i.ibb.co/SRn2Hw0/middle-img-41658.png\",\n",
    "\"https://i.ibb.co/m53LncL/middle-img-41712.png\",\n",
    "\"https://i.ibb.co/ZJ7k4bn/middle-img-41836.png\",\n",
    "\"https://i.ibb.co/TrYcvtk/middle-img-41920.png\",\n",
    "\"https://i.ibb.co/nRfy8MW/middle-img-41967.png\",\n",
    "\"https://i.ibb.co/wK8Fh5C/middle-img-42100.png\",\n",
    "\"https://i.ibb.co/THQsQdS/middle-img-42112.png\",\n",
    "\"https://i.ibb.co/wQsn3dq/middle-img-42262.png\",\n",
    "\"https://i.ibb.co/6yjSMb0/middle-img-42330.png\",\n",
    "\"https://i.ibb.co/bPR0381/middle-img-42453.png\",\n",
    "\"https://i.ibb.co/5K3JLdV/middle-img-46146.png\",\n",
    "\"https://i.ibb.co/6bfyGfC/middle-img-48799.png\",\n",
    "\"https://i.ibb.co/NKk2L8j/middle-img-49524.png\",\n",
    "\"https://i.ibb.co/0Bcst4W/middle-img-49554.png\",\n",
    "\"https://i.ibb.co/mzSwmT7/middle-img-58456.png\",\n",
    "\"https://i.ibb.co/bNLpjn0/middle-img-58709.png\",\n",
    "\"https://i.ibb.co/x3K2JnK/middle-img-64262.png\",\n",
    "\"https://i.ibb.co/YTZXZDc/middle-img-65790.png\"]\n",
    "\n",
    "similarity_search.display_images(boots)"
   ]
  },
  {
   "cell_type": "markdown",
   "metadata": {},
   "source": [
    "# Chairs set"
   ]
  },
  {
   "cell_type": "code",
   "execution_count": 4,
   "metadata": {},
   "outputs": [
    {
     "data": {
      "text/html": [
       "<div>         <img style='width:170px; float: left; border: 1px solid black;' src='https://i.ibb.co/8gKRnh1/chair-0.png'>         <h3 style='width:0px; position: relative; top:-25px; right:165px; float: left;'> 0 </h3>     </div><div>         <img style='width:170px; float: left; border: 1px solid black;' src='https://i.ibb.co/7QCTX75/chair-1.png'>         <h3 style='width:0px; position: relative; top:-25px; right:165px; float: left;'> 1 </h3>     </div><div>         <img style='width:170px; float: left; border: 1px solid black;' src='https://i.ibb.co/t3vSLF6/chair-2.png'>         <h3 style='width:0px; position: relative; top:-25px; right:165px; float: left;'> 2 </h3>     </div><div>         <img style='width:170px; float: left; border: 1px solid black;' src='https://i.ibb.co/hL1XBdy/chair-3.png'>         <h3 style='width:0px; position: relative; top:-25px; right:165px; float: left;'> 3 </h3>     </div><div>         <img style='width:170px; float: left; border: 1px solid black;' src='https://i.ibb.co/bsfBnM2/chair-4.png'>         <h3 style='width:0px; position: relative; top:-25px; right:165px; float: left;'> 4 </h3>     </div><div>         <img style='width:170px; float: left; border: 1px solid black;' src='https://i.ibb.co/gg6k4sb/chair-5.png'>         <h3 style='width:0px; position: relative; top:-25px; right:165px; float: left;'> 5 </h3>     </div><div>         <img style='width:170px; float: left; border: 1px solid black;' src='https://i.ibb.co/J3RVMtk/chair-6.png'>         <h3 style='width:0px; position: relative; top:-25px; right:165px; float: left;'> 6 </h3>     </div><div>         <img style='width:170px; float: left; border: 1px solid black;' src='https://i.ibb.co/2d1c8P7/chair-7.png'>         <h3 style='width:0px; position: relative; top:-25px; right:165px; float: left;'> 7 </h3>     </div><div>         <img style='width:170px; float: left; border: 1px solid black;' src='https://i.ibb.co/3Y2XDrg/chair-8.png'>         <h3 style='width:0px; position: relative; top:-25px; right:165px; float: left;'> 8 </h3>     </div><div>         <img style='width:170px; float: left; border: 1px solid black;' src='https://i.ibb.co/WWgtyst/chair-9.png'>         <h3 style='width:0px; position: relative; top:-25px; right:165px; float: left;'> 9 </h3>     </div><div>         <img style='width:170px; float: left; border: 1px solid black;' src='https://i.ibb.co/SBj6RVr/chair-10.png'>         <h3 style='width:0px; position: relative; top:-25px; right:165px; float: left;'> 10 </h3>     </div><div>         <img style='width:170px; float: left; border: 1px solid black;' src='https://i.ibb.co/LQRsrj1/chair-11.png'>         <h3 style='width:0px; position: relative; top:-25px; right:165px; float: left;'> 11 </h3>     </div><div>         <img style='width:170px; float: left; border: 1px solid black;' src='https://i.ibb.co/NV59D0M/chair-12.png'>         <h3 style='width:0px; position: relative; top:-25px; right:165px; float: left;'> 12 </h3>     </div><div>         <img style='width:170px; float: left; border: 1px solid black;' src='https://i.ibb.co/fnR14Rj/chair-13.png'>         <h3 style='width:0px; position: relative; top:-25px; right:165px; float: left;'> 13 </h3>     </div><div>         <img style='width:170px; float: left; border: 1px solid black;' src='https://i.ibb.co/xYddXFp/chair-14.png'>         <h3 style='width:0px; position: relative; top:-25px; right:165px; float: left;'> 14 </h3>     </div><div>         <img style='width:170px; float: left; border: 1px solid black;' src='https://i.ibb.co/DpkZyt7/chair-15.png'>         <h3 style='width:0px; position: relative; top:-25px; right:165px; float: left;'> 15 </h3>     </div><div>         <img style='width:170px; float: left; border: 1px solid black;' src='https://i.ibb.co/QM7WtPf/chair-16.png'>         <h3 style='width:0px; position: relative; top:-25px; right:165px; float: left;'> 16 </h3>     </div><div>         <img style='width:170px; float: left; border: 1px solid black;' src='https://i.ibb.co/R0vPsQX/chair-17.png'>         <h3 style='width:0px; position: relative; top:-25px; right:165px; float: left;'> 17 </h3>     </div><div>         <img style='width:170px; float: left; border: 1px solid black;' src='https://i.ibb.co/cFtmg9f/chair-18.png'>         <h3 style='width:0px; position: relative; top:-25px; right:165px; float: left;'> 18 </h3>     </div><div>         <img style='width:170px; float: left; border: 1px solid black;' src='https://i.ibb.co/30HN6fB/chair-19.png'>         <h3 style='width:0px; position: relative; top:-25px; right:165px; float: left;'> 19 </h3>     </div><div>         <img style='width:170px; float: left; border: 1px solid black;' src='https://i.ibb.co/KjHVXWX/chair-20.png'>         <h3 style='width:0px; position: relative; top:-25px; right:165px; float: left;'> 20 </h3>     </div><div>         <img style='width:170px; float: left; border: 1px solid black;' src='https://i.ibb.co/grc9QzW/chair-21.png'>         <h3 style='width:0px; position: relative; top:-25px; right:165px; float: left;'> 21 </h3>     </div><div>         <img style='width:170px; float: left; border: 1px solid black;' src='https://i.ibb.co/k9j7zTL/chair-22.png'>         <h3 style='width:0px; position: relative; top:-25px; right:165px; float: left;'> 22 </h3>     </div><div>         <img style='width:170px; float: left; border: 1px solid black;' src='https://i.ibb.co/LrZrGS4/chair-23.png'>         <h3 style='width:0px; position: relative; top:-25px; right:165px; float: left;'> 23 </h3>     </div><div>         <img style='width:170px; float: left; border: 1px solid black;' src='https://i.ibb.co/C6XpNGW/chair-24.png'>         <h3 style='width:0px; position: relative; top:-25px; right:165px; float: left;'> 24 </h3>     </div><div>         <img style='width:170px; float: left; border: 1px solid black;' src='https://i.ibb.co/YZqPXbs/chair-25.png'>         <h3 style='width:0px; position: relative; top:-25px; right:165px; float: left;'> 25 </h3>     </div><div>         <img style='width:170px; float: left; border: 1px solid black;' src='https://i.ibb.co/zZV73vM/chair-26.png'>         <h3 style='width:0px; position: relative; top:-25px; right:165px; float: left;'> 26 </h3>     </div><div>         <img style='width:170px; float: left; border: 1px solid black;' src='https://i.ibb.co/3Ywx7L6/chair-27.png'>         <h3 style='width:0px; position: relative; top:-25px; right:165px; float: left;'> 27 </h3>     </div><div>         <img style='width:170px; float: left; border: 1px solid black;' src='https://i.ibb.co/XfPTm7c/chair-28.png'>         <h3 style='width:0px; position: relative; top:-25px; right:165px; float: left;'> 28 </h3>     </div><div>         <img style='width:170px; float: left; border: 1px solid black;' src='https://i.ibb.co/YQJvDH8/chair-29.png'>         <h3 style='width:0px; position: relative; top:-25px; right:165px; float: left;'> 29 </h3>     </div><div>         <img style='width:170px; float: left; border: 1px solid black;' src='https://i.ibb.co/Zdvrssr/chair-30.png'>         <h3 style='width:0px; position: relative; top:-25px; right:165px; float: left;'> 30 </h3>     </div><div>         <img style='width:170px; float: left; border: 1px solid black;' src='https://i.ibb.co/KVRGNSs/chair-31.png'>         <h3 style='width:0px; position: relative; top:-25px; right:165px; float: left;'> 31 </h3>     </div><div>         <img style='width:170px; float: left; border: 1px solid black;' src='https://i.ibb.co/jgGzs67/chair-32.png'>         <h3 style='width:0px; position: relative; top:-25px; right:165px; float: left;'> 32 </h3>     </div><div>         <img style='width:170px; float: left; border: 1px solid black;' src='https://i.ibb.co/zJZs4bK/chair-33.png'>         <h3 style='width:0px; position: relative; top:-25px; right:165px; float: left;'> 33 </h3>     </div><div>         <img style='width:170px; float: left; border: 1px solid black;' src='https://i.ibb.co/rtC21WR/chair-34.png'>         <h3 style='width:0px; position: relative; top:-25px; right:165px; float: left;'> 34 </h3>     </div><div>         <img style='width:170px; float: left; border: 1px solid black;' src='https://i.ibb.co/jfhF2Qw/chair-35.png'>         <h3 style='width:0px; position: relative; top:-25px; right:165px; float: left;'> 35 </h3>     </div><div>         <img style='width:170px; float: left; border: 1px solid black;' src='https://i.ibb.co/M8xW2Kq/chair-36.png'>         <h3 style='width:0px; position: relative; top:-25px; right:165px; float: left;'> 36 </h3>     </div><div>         <img style='width:170px; float: left; border: 1px solid black;' src='https://i.ibb.co/tMK90sr/chair-37.png'>         <h3 style='width:0px; position: relative; top:-25px; right:165px; float: left;'> 37 </h3>     </div><div>         <img style='width:170px; float: left; border: 1px solid black;' src='https://i.ibb.co/FsfHps8/chair-38.png'>         <h3 style='width:0px; position: relative; top:-25px; right:165px; float: left;'> 38 </h3>     </div><div>         <img style='width:170px; float: left; border: 1px solid black;' src='https://i.ibb.co/1Rqf1LR/chair-39.png'>         <h3 style='width:0px; position: relative; top:-25px; right:165px; float: left;'> 39 </h3>     </div><div>         <img style='width:170px; float: left; border: 1px solid black;' src='https://i.ibb.co/HP8txt4/chair-40.png'>         <h3 style='width:0px; position: relative; top:-25px; right:165px; float: left;'> 40 </h3>     </div><div>         <img style='width:170px; float: left; border: 1px solid black;' src='https://i.ibb.co/chRBvCD/chair-41.png'>         <h3 style='width:0px; position: relative; top:-25px; right:165px; float: left;'> 41 </h3>     </div><div>         <img style='width:170px; float: left; border: 1px solid black;' src='https://i.ibb.co/mNm4qvL/chair-42.png'>         <h3 style='width:0px; position: relative; top:-25px; right:165px; float: left;'> 42 </h3>     </div><div>         <img style='width:170px; float: left; border: 1px solid black;' src='https://i.ibb.co/gFd3Z8G/chair-43.png'>         <h3 style='width:0px; position: relative; top:-25px; right:165px; float: left;'> 43 </h3>     </div><div>         <img style='width:170px; float: left; border: 1px solid black;' src='https://i.ibb.co/37gXjv5/chair-44.png'>         <h3 style='width:0px; position: relative; top:-25px; right:165px; float: left;'> 44 </h3>     </div><div>         <img style='width:170px; float: left; border: 1px solid black;' src='https://i.ibb.co/khJ9zMk/chair-45.png'>         <h3 style='width:0px; position: relative; top:-25px; right:165px; float: left;'> 45 </h3>     </div><div>         <img style='width:170px; float: left; border: 1px solid black;' src='https://i.ibb.co/sqrz1Yx/chair-46.png'>         <h3 style='width:0px; position: relative; top:-25px; right:165px; float: left;'> 46 </h3>     </div><div>         <img style='width:170px; float: left; border: 1px solid black;' src='https://i.ibb.co/T2VsyKb/chair-47.png'>         <h3 style='width:0px; position: relative; top:-25px; right:165px; float: left;'> 47 </h3>     </div><div>         <img style='width:170px; float: left; border: 1px solid black;' src='https://i.ibb.co/Qbmfgc7/chair-48.png'>         <h3 style='width:0px; position: relative; top:-25px; right:165px; float: left;'> 48 </h3>     </div><div>         <img style='width:170px; float: left; border: 1px solid black;' src='https://i.ibb.co/ZYXnXt3/chair-49.png'>         <h3 style='width:0px; position: relative; top:-25px; right:165px; float: left;'> 49 </h3>     </div>"
      ],
      "text/plain": [
       "<IPython.core.display.HTML object>"
      ]
     },
     "metadata": {},
     "output_type": "display_data"
    }
   ],
   "source": [
    "chairs = [\n",
    "\"https://i.ibb.co/8gKRnh1/chair-0.png\",\n",
    "\"https://i.ibb.co/7QCTX75/chair-1.png\",\n",
    "\"https://i.ibb.co/t3vSLF6/chair-2.png\",\n",
    "\"https://i.ibb.co/hL1XBdy/chair-3.png\",\n",
    "\"https://i.ibb.co/bsfBnM2/chair-4.png\",\n",
    "\"https://i.ibb.co/gg6k4sb/chair-5.png\",\n",
    "\"https://i.ibb.co/J3RVMtk/chair-6.png\",\n",
    "\"https://i.ibb.co/2d1c8P7/chair-7.png\",\n",
    "\"https://i.ibb.co/3Y2XDrg/chair-8.png\",\n",
    "\"https://i.ibb.co/WWgtyst/chair-9.png\",\n",
    "\"https://i.ibb.co/SBj6RVr/chair-10.png\",\n",
    "\"https://i.ibb.co/LQRsrj1/chair-11.png\",\n",
    "\"https://i.ibb.co/NV59D0M/chair-12.png\",\n",
    "\"https://i.ibb.co/fnR14Rj/chair-13.png\",\n",
    "\"https://i.ibb.co/xYddXFp/chair-14.png\",\n",
    "\"https://i.ibb.co/DpkZyt7/chair-15.png\",\n",
    "\"https://i.ibb.co/QM7WtPf/chair-16.png\",\n",
    "\"https://i.ibb.co/R0vPsQX/chair-17.png\",\n",
    "\"https://i.ibb.co/cFtmg9f/chair-18.png\",\n",
    "\"https://i.ibb.co/30HN6fB/chair-19.png\",\n",
    "\"https://i.ibb.co/KjHVXWX/chair-20.png\",\n",
    "\"https://i.ibb.co/grc9QzW/chair-21.png\",\n",
    "\"https://i.ibb.co/k9j7zTL/chair-22.png\",\n",
    "\"https://i.ibb.co/LrZrGS4/chair-23.png\",\n",
    "\"https://i.ibb.co/C6XpNGW/chair-24.png\",\n",
    "\"https://i.ibb.co/YZqPXbs/chair-25.png\",\n",
    "\"https://i.ibb.co/zZV73vM/chair-26.png\",\n",
    "\"https://i.ibb.co/3Ywx7L6/chair-27.png\",\n",
    "\"https://i.ibb.co/XfPTm7c/chair-28.png\",\n",
    "\"https://i.ibb.co/YQJvDH8/chair-29.png\",\n",
    "\"https://i.ibb.co/Zdvrssr/chair-30.png\",\n",
    "\"https://i.ibb.co/KVRGNSs/chair-31.png\",\n",
    "\"https://i.ibb.co/jgGzs67/chair-32.png\",\n",
    "\"https://i.ibb.co/zJZs4bK/chair-33.png\",\n",
    "\"https://i.ibb.co/rtC21WR/chair-34.png\",\n",
    "\"https://i.ibb.co/jfhF2Qw/chair-35.png\",\n",
    "\"https://i.ibb.co/M8xW2Kq/chair-36.png\",\n",
    "\"https://i.ibb.co/tMK90sr/chair-37.png\",\n",
    "\"https://i.ibb.co/FsfHps8/chair-38.png\",\n",
    "\"https://i.ibb.co/1Rqf1LR/chair-39.png\",\n",
    "\"https://i.ibb.co/HP8txt4/chair-40.png\",\n",
    "\"https://i.ibb.co/chRBvCD/chair-41.png\",\n",
    "\"https://i.ibb.co/mNm4qvL/chair-42.png\",\n",
    "\"https://i.ibb.co/gFd3Z8G/chair-43.png\",\n",
    "\"https://i.ibb.co/37gXjv5/chair-44.png\",\n",
    "\"https://i.ibb.co/khJ9zMk/chair-45.png\",\n",
    "\"https://i.ibb.co/sqrz1Yx/chair-46.png\",\n",
    "\"https://i.ibb.co/T2VsyKb/chair-47.png\",\n",
    "\"https://i.ibb.co/Qbmfgc7/chair-48.png\",\n",
    "\"https://i.ibb.co/ZYXnXt3/chair-49.png\"]\n",
    "\n",
    "similarity_search.display_images(chairs)"
   ]
  },
  {
   "cell_type": "code",
   "execution_count": 5,
   "metadata": {},
   "outputs": [
    {
     "data": {
      "application/vnd.jupyter.widget-view+json": {
       "model_id": "5d401ddf827947acbc91a70d38d713c9",
       "version_major": 2,
       "version_minor": 0
      },
      "text/plain": [
       "HBox(children=(FloatProgress(value=0.0, max=3.0), HTML(value='')))"
      ]
     },
     "metadata": {},
     "output_type": "display_data"
    },
    {
     "name": "stdout",
     "output_type": "stream",
     "text": [
      "\n"
     ]
    }
   ],
   "source": [
    "collection = boots\n",
    "collection_name = \"boots\"\n",
    "\n",
    "similarity_search.create_collection(vi_client, image_encoder, collection, collection_name)"
   ]
  },
  {
   "cell_type": "markdown",
   "metadata": {},
   "source": [
    "# Similarity search by ID"
   ]
  },
  {
   "cell_type": "code",
   "execution_count": 6,
   "metadata": {},
   "outputs": [
    {
     "data": {
      "text/html": [
       "<table border=\"1\" class=\"dataframe\">\n",
       "  <thead>\n",
       "    <tr style=\"text-align: right;\">\n",
       "      <th></th>\n",
       "      <th>_id</th>\n",
       "      <th>image</th>\n",
       "      <th>insert_date_</th>\n",
       "      <th>image_id</th>\n",
       "      <th>_search_score</th>\n",
       "    </tr>\n",
       "  </thead>\n",
       "  <tbody>\n",
       "    <tr>\n",
       "      <th>0</th>\n",
       "      <td>2</td>\n",
       "      <td><img src=\"https://i.ibb.co/dcQCGNV/middle-img-25005.png\" width=\"150\" ></td>\n",
       "      <td>2021-01-13T11:15:40.273241</td>\n",
       "      <td>2</td>\n",
       "      <td>1.000000</td>\n",
       "    </tr>\n",
       "    <tr>\n",
       "      <th>1</th>\n",
       "      <td>13</td>\n",
       "      <td><img src=\"https://i.ibb.co/vkDWfKF/middle-img-32253.png\" width=\"150\" ></td>\n",
       "      <td>2021-01-13T11:15:40.290783</td>\n",
       "      <td>13</td>\n",
       "      <td>0.967866</td>\n",
       "    </tr>\n",
       "    <tr>\n",
       "      <th>2</th>\n",
       "      <td>34</td>\n",
       "      <td><img src=\"https://i.ibb.co/ZJ7k4bn/middle-img-41836.png\" width=\"150\" ></td>\n",
       "      <td>2021-01-13T11:17:38.946975</td>\n",
       "      <td>34</td>\n",
       "      <td>0.962559</td>\n",
       "    </tr>\n",
       "    <tr>\n",
       "      <th>3</th>\n",
       "      <td>17</td>\n",
       "      <td><img src=\"https://i.ibb.co/c2xDMyn/middle-img-32589.png\" width=\"150\" ></td>\n",
       "      <td>2021-01-13T11:16:39.102379</td>\n",
       "      <td>17</td>\n",
       "      <td>0.950400</td>\n",
       "    </tr>\n",
       "    <tr>\n",
       "      <th>4</th>\n",
       "      <td>35</td>\n",
       "      <td><img src=\"https://i.ibb.co/TrYcvtk/middle-img-41920.png\" width=\"150\" ></td>\n",
       "      <td>2021-01-13T11:17:38.948337</td>\n",
       "      <td>35</td>\n",
       "      <td>0.949420</td>\n",
       "    </tr>\n",
       "    <tr>\n",
       "      <th>5</th>\n",
       "      <td>19</td>\n",
       "      <td><img src=\"https://i.ibb.co/nbNb7fx/middle-img-33201.png\" width=\"150\" ></td>\n",
       "      <td>2021-01-13T11:16:39.105389</td>\n",
       "      <td>19</td>\n",
       "      <td>0.937567</td>\n",
       "    </tr>\n",
       "    <tr>\n",
       "      <th>6</th>\n",
       "      <td>10</td>\n",
       "      <td><img src=\"https://i.ibb.co/yFtNrNS/middle-img-31712.png\" width=\"150\" ></td>\n",
       "      <td>2021-01-13T11:15:40.286258</td>\n",
       "      <td>10</td>\n",
       "      <td>0.931374</td>\n",
       "    </tr>\n",
       "    <tr>\n",
       "      <th>7</th>\n",
       "      <td>29</td>\n",
       "      <td><img src=\"https://i.ibb.co/Fqbk0wf/middle-img-41088.png\" width=\"150\" ></td>\n",
       "      <td>2021-01-13T11:16:39.119986</td>\n",
       "      <td>29</td>\n",
       "      <td>0.927101</td>\n",
       "    </tr>\n",
       "    <tr>\n",
       "      <th>8</th>\n",
       "      <td>7</td>\n",
       "      <td><img src=\"https://i.ibb.co/mX9QZJc/middle-img-31544.png\" width=\"150\" ></td>\n",
       "      <td>2021-01-13T11:15:40.281541</td>\n",
       "      <td>7</td>\n",
       "      <td>0.924413</td>\n",
       "    </tr>\n",
       "    <tr>\n",
       "      <th>9</th>\n",
       "      <td>40</td>\n",
       "      <td><img src=\"https://i.ibb.co/6yjSMb0/middle-img-42330.png\" width=\"150\" ></td>\n",
       "      <td>2021-01-13T11:17:38.956396</td>\n",
       "      <td>40</td>\n",
       "      <td>0.917936</td>\n",
       "    </tr>\n",
       "  </tbody>\n",
       "</table>"
      ],
      "text/plain": [
       "<IPython.core.display.HTML object>"
      ]
     },
     "execution_count": 6,
     "metadata": {},
     "output_type": "execute_result"
    }
   ],
   "source": [
    "search_id = 2\n",
    "search_by_id_results = similarity_search.search_by_id(vi_client, collection_name, search_id)\n",
    "vi_client.show_json(search_by_id_results, image_fields=['image'], image_width=150, nrows=10)"
   ]
  },
  {
   "cell_type": "markdown",
   "metadata": {},
   "source": [
    "# Similarity search by reference image"
   ]
  },
  {
   "cell_type": "code",
   "execution_count": 7,
   "metadata": {},
   "outputs": [
    {
     "name": "stdout",
     "output_type": "stream",
     "text": [
      "Reference image: \n"
     ]
    },
    {
     "data": {
      "text/html": [
       "<div>         <img style='width:170px; float: left; border: 1px solid black;' src='https://stridewise.com/wp-content/uploads/2018/06/Viberg-Service-Boot-zoomed.png'>         <h3 style='width:0px; position: relative; top:-25px; right:165px; float: left;'> 0 </h3>     </div>"
      ],
      "text/plain": [
       "<IPython.core.display.HTML object>"
      ]
     },
     "metadata": {},
     "output_type": "display_data"
    },
    {
     "data": {
      "text/html": [
       "<table border=\"1\" class=\"dataframe\">\n",
       "  <thead>\n",
       "    <tr style=\"text-align: right;\">\n",
       "      <th></th>\n",
       "      <th>_id</th>\n",
       "      <th>image</th>\n",
       "      <th>insert_date_</th>\n",
       "      <th>image_id</th>\n",
       "      <th>_search_score</th>\n",
       "    </tr>\n",
       "  </thead>\n",
       "  <tbody>\n",
       "    <tr>\n",
       "      <th>0</th>\n",
       "      <td>3</td>\n",
       "      <td><img src=\"https://i.ibb.co/W2SqtDD/middle-img-28263.png\" width=\"150\" ></td>\n",
       "      <td>2021-01-13T11:15:40.274922</td>\n",
       "      <td>3</td>\n",
       "      <td>0.821845</td>\n",
       "    </tr>\n",
       "    <tr>\n",
       "      <th>1</th>\n",
       "      <td>8</td>\n",
       "      <td><img src=\"https://i.ibb.co/MNCfw0H/middle-img-31640.png\" width=\"150\" ></td>\n",
       "      <td>2021-01-13T11:15:40.283218</td>\n",
       "      <td>8</td>\n",
       "      <td>0.812762</td>\n",
       "    </tr>\n",
       "    <tr>\n",
       "      <th>2</th>\n",
       "      <td>6</td>\n",
       "      <td><img src=\"https://i.ibb.co/JnQL1hs/middle-img-31308.png\" width=\"150\" ></td>\n",
       "      <td>2021-01-13T11:15:40.279952</td>\n",
       "      <td>6</td>\n",
       "      <td>0.792469</td>\n",
       "    </tr>\n",
       "    <tr>\n",
       "      <th>3</th>\n",
       "      <td>28</td>\n",
       "      <td><img src=\"https://i.ibb.co/PYMg5Dp/middle-img-40848.png\" width=\"150\" ></td>\n",
       "      <td>2021-01-13T11:16:39.118615</td>\n",
       "      <td>28</td>\n",
       "      <td>0.788421</td>\n",
       "    </tr>\n",
       "    <tr>\n",
       "      <th>4</th>\n",
       "      <td>41</td>\n",
       "      <td><img src=\"https://i.ibb.co/bPR0381/middle-img-42453.png\" width=\"150\" ></td>\n",
       "      <td>2021-01-13T11:17:38.957996</td>\n",
       "      <td>41</td>\n",
       "      <td>0.787813</td>\n",
       "    </tr>\n",
       "    <tr>\n",
       "      <th>5</th>\n",
       "      <td>25</td>\n",
       "      <td><img src=\"https://i.ibb.co/D8vHShy/middle-img-40110.png\" width=\"150\" ></td>\n",
       "      <td>2021-01-13T11:16:39.114272</td>\n",
       "      <td>25</td>\n",
       "      <td>0.784376</td>\n",
       "    </tr>\n",
       "    <tr>\n",
       "      <th>6</th>\n",
       "      <td>33</td>\n",
       "      <td><img src=\"https://i.ibb.co/m53LncL/middle-img-41712.png\" width=\"150\" ></td>\n",
       "      <td>2021-01-13T11:17:38.945643</td>\n",
       "      <td>33</td>\n",
       "      <td>0.782534</td>\n",
       "    </tr>\n",
       "    <tr>\n",
       "      <th>7</th>\n",
       "      <td>20</td>\n",
       "      <td><img src=\"https://i.ibb.co/9vgdDcL/middle-img-34157.png\" width=\"150\" ></td>\n",
       "      <td>2021-01-13T11:16:39.106978</td>\n",
       "      <td>20</td>\n",
       "      <td>0.780968</td>\n",
       "    </tr>\n",
       "    <tr>\n",
       "      <th>8</th>\n",
       "      <td>1</td>\n",
       "      <td><img src=\"https://i.ibb.co/qkV2Gkk/middle-img-21519.png\" width=\"150\" ></td>\n",
       "      <td>2021-01-13T11:15:40.271780</td>\n",
       "      <td>1</td>\n",
       "      <td>0.776574</td>\n",
       "    </tr>\n",
       "    <tr>\n",
       "      <th>9</th>\n",
       "      <td>37</td>\n",
       "      <td><img src=\"https://i.ibb.co/wK8Fh5C/middle-img-42100.png\" width=\"150\" ></td>\n",
       "      <td>2021-01-13T11:17:38.951559</td>\n",
       "      <td>37</td>\n",
       "      <td>0.769703</td>\n",
       "    </tr>\n",
       "  </tbody>\n",
       "</table>"
      ],
      "text/plain": [
       "<IPython.core.display.HTML object>"
      ]
     },
     "execution_count": 7,
     "metadata": {},
     "output_type": "execute_result"
    }
   ],
   "source": [
    "ref_img_url = \"https://stridewise.com/wp-content/uploads/2018/06/Viberg-Service-Boot-zoomed.png\"\n",
    "\n",
    "print(\"Reference image: \")\n",
    "similarity_search.display_images([ref_img_url])\n",
    "\n",
    "search_results = similarity_search.search_by_ref(vi_client, collection_name, ref_img_url)\n",
    "vi_client.show_json(search_results, image_fields=['image'], image_width=150, nrows=10)"
   ]
  }
 ],
 "metadata": {
  "kernelspec": {
   "display_name": "myenv",
   "language": "python",
   "name": "myenv"
  },
  "language_info": {
   "codemirror_mode": {
    "name": "ipython",
    "version": 3
   },
   "file_extension": ".py",
   "mimetype": "text/x-python",
   "name": "python",
   "nbconvert_exporter": "python",
   "pygments_lexer": "ipython3",
   "version": "3.7.3"
  }
 },
 "nbformat": 4,
 "nbformat_minor": 4
}
